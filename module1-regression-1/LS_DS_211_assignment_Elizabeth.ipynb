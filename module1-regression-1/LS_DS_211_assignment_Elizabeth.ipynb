{
  "nbformat": 4,
  "nbformat_minor": 0,
  "metadata": {
    "kernelspec": {
      "display_name": "Python 3",
      "language": "python",
      "name": "python3"
    },
    "language_info": {
      "codemirror_mode": {
        "name": "ipython",
        "version": 3
      },
      "file_extension": ".py",
      "mimetype": "text/x-python",
      "name": "python",
      "nbconvert_exporter": "python",
      "pygments_lexer": "ipython3",
      "version": "3.7.3"
    },
    "colab": {
      "name": "LS_DS_211_assignment_Elizabeth.ipynb",
      "provenance": [],
      "include_colab_link": true
    }
  },
  "cells": [
    {
      "cell_type": "markdown",
      "metadata": {
        "id": "view-in-github",
        "colab_type": "text"
      },
      "source": [
        "<a href=\"https://colab.research.google.com/github/EEdwardsA/Build-Week-1/blob/master/module1-regression-1/LS_DS_211_assignment_Elizabeth.ipynb\" target=\"_parent\"><img src=\"https://colab.research.google.com/assets/colab-badge.svg\" alt=\"Open In Colab\"/></a>"
      ]
    },
    {
      "cell_type": "markdown",
      "metadata": {
        "id": "OCbLnYD8xziE"
      },
      "source": [
        "Lambda School Data Science\n",
        "\n",
        "*Unit 2, Sprint 1, Module 1*\n",
        "\n",
        "---"
      ]
    },
    {
      "cell_type": "markdown",
      "metadata": {
        "id": "7IXUfiQ2UKj6"
      },
      "source": [
        "# Regression 1\n",
        "\n",
        "## Assignment\n",
        "\n",
        "You'll use another **New York City** real estate dataset. \n",
        "\n",
        "But now you'll **predict how much it costs to rent an apartment**, instead of how much it costs to buy a condo.\n",
        "\n",
        "The data comes from renthop.com, an apartment listing website.\n",
        "\n",
        "- [ ] Look at the data. Choose a feature, and plot its relationship with the target.\n",
        "- [ ] Use scikit-learn for linear regression with one feature. You can follow the [5-step process from Jake VanderPlas](https://jakevdp.github.io/PythonDataScienceHandbook/05.02-introducing-scikit-learn.html#Basics-of-the-API).\n",
        "- [ ] Define a function to make new predictions and explain the model coefficient.\n",
        "- [ ] Organize and comment your code.\n",
        "\n",
        "> [Do Not Copy-Paste.](https://docs.google.com/document/d/1ubOw9B3Hfip27hF2ZFnW3a3z9xAgrUDRReOEo-FHCVs/edit) You must type each of these exercises in, manually. If you copy and paste, you might as well not even do them. The point of these exercises is to train your hands, your brain, and your mind in how to read, write, and see code. If you copy-paste, you are cheating yourself out of the effectiveness of the lessons.\n",
        "\n",
        "If your **Plotly** visualizations aren't working:\n",
        "- You must have JavaScript enabled in your browser\n",
        "- You probably want to use Chrome or Firefox\n",
        "- You may need to turn off ad blockers\n",
        "- [If you're using Jupyter Lab locally, you need to install some \"extensions\"](https://plot.ly/python/getting-started/#jupyterlab-support-python-35)\n",
        "\n",
        "## Stretch Goals\n",
        "- [ ] Do linear regression with two or more features.\n",
        "- [ ] Read [The Discovery of Statistical Regression](https://priceonomics.com/the-discovery-of-statistical-regression/)\n",
        "- [ ] Read [_An Introduction to Statistical Learning_](http://faculty.marshall.usc.edu/gareth-james/ISL/ISLR%20Seventh%20Printing.pdf), Chapter 2.1: What Is Statistical Learning?"
      ]
    },
    {
      "cell_type": "code",
      "metadata": {
        "id": "o9eSnDYhUGD7"
      },
      "source": [
        "import sys\n",
        "\n",
        "# If you're on Colab:\n",
        "if 'google.colab' in sys.modules:\n",
        "    DATA_PATH = 'https://raw.githubusercontent.com/LambdaSchool/DS-Unit-2-Applied-Modeling/master/data/'\n",
        "\n",
        "# If you're working locally:\n",
        "else:\n",
        "    DATA_PATH = '../data/'\n",
        "    \n",
        "# Ignore this Numpy warning when using Plotly Express:\n",
        "# FutureWarning: Method .ptp is deprecated and will be removed in a future version. Use numpy.ptp instead.\n",
        "import warnings\n",
        "warnings.filterwarnings(action='ignore', category=FutureWarning, module='numpy')"
      ],
      "execution_count": null,
      "outputs": []
    },
    {
      "cell_type": "code",
      "metadata": {
        "id": "4S2wXSrFV_g4"
      },
      "source": [
        "# Read New York City apartment rental listing data\n",
        "import pandas as pd\n",
        "df = pd.read_csv(DATA_PATH+'apartments/renthop-nyc.csv')\n",
        "assert df.shape == (49352, 34)"
      ],
      "execution_count": null,
      "outputs": []
    },
    {
      "cell_type": "code",
      "metadata": {
        "id": "Hzr7I7Gixzid"
      },
      "source": [
        "# Remove outliers: \n",
        "# the most extreme 1% prices,\n",
        "# the most extreme .1% latitudes, &\n",
        "# the most extreme .1% longitudes\n",
        "df = df[(df['price'] >= 1375) & (df['price'] <= 15500) & \n",
        "        (df['latitude'] >=40.57) & (df['latitude'] < 40.99) &\n",
        "        (df['longitude'] >= -74.1) & (df['longitude'] <= -73.38)]"
      ],
      "execution_count": null,
      "outputs": []
    },
    {
      "cell_type": "code",
      "metadata": {
        "id": "H2KEhOMVJKSA",
        "outputId": "bf56b86f-1c06-418b-c2eb-989b9245d7af",
        "colab": {
          "base_uri": "https://localhost:8080/",
          "height": 513
        }
      },
      "source": [
        "# check columns and first 5 rows\n",
        "df.head()"
      ],
      "execution_count": null,
      "outputs": [
        {
          "output_type": "execute_result",
          "data": {
            "text/html": [
              "<div>\n",
              "<style scoped>\n",
              "    .dataframe tbody tr th:only-of-type {\n",
              "        vertical-align: middle;\n",
              "    }\n",
              "\n",
              "    .dataframe tbody tr th {\n",
              "        vertical-align: top;\n",
              "    }\n",
              "\n",
              "    .dataframe thead th {\n",
              "        text-align: right;\n",
              "    }\n",
              "</style>\n",
              "<table border=\"1\" class=\"dataframe\">\n",
              "  <thead>\n",
              "    <tr style=\"text-align: right;\">\n",
              "      <th></th>\n",
              "      <th>bathrooms</th>\n",
              "      <th>bedrooms</th>\n",
              "      <th>created</th>\n",
              "      <th>description</th>\n",
              "      <th>display_address</th>\n",
              "      <th>latitude</th>\n",
              "      <th>longitude</th>\n",
              "      <th>price</th>\n",
              "      <th>street_address</th>\n",
              "      <th>interest_level</th>\n",
              "      <th>elevator</th>\n",
              "      <th>cats_allowed</th>\n",
              "      <th>hardwood_floors</th>\n",
              "      <th>dogs_allowed</th>\n",
              "      <th>doorman</th>\n",
              "      <th>dishwasher</th>\n",
              "      <th>no_fee</th>\n",
              "      <th>laundry_in_building</th>\n",
              "      <th>fitness_center</th>\n",
              "      <th>pre-war</th>\n",
              "      <th>laundry_in_unit</th>\n",
              "      <th>roof_deck</th>\n",
              "      <th>outdoor_space</th>\n",
              "      <th>dining_room</th>\n",
              "      <th>high_speed_internet</th>\n",
              "      <th>balcony</th>\n",
              "      <th>swimming_pool</th>\n",
              "      <th>new_construction</th>\n",
              "      <th>terrace</th>\n",
              "      <th>exclusive</th>\n",
              "      <th>loft</th>\n",
              "      <th>garden_patio</th>\n",
              "      <th>wheelchair_access</th>\n",
              "      <th>common_outdoor_space</th>\n",
              "    </tr>\n",
              "  </thead>\n",
              "  <tbody>\n",
              "    <tr>\n",
              "      <th>0</th>\n",
              "      <td>1.5</td>\n",
              "      <td>3</td>\n",
              "      <td>2016-06-24 07:54:24</td>\n",
              "      <td>A Brand New 3 Bedroom 1.5 bath ApartmentEnjoy ...</td>\n",
              "      <td>Metropolitan Avenue</td>\n",
              "      <td>40.7145</td>\n",
              "      <td>-73.9425</td>\n",
              "      <td>3000</td>\n",
              "      <td>792 Metropolitan Avenue</td>\n",
              "      <td>medium</td>\n",
              "      <td>0</td>\n",
              "      <td>0</td>\n",
              "      <td>0</td>\n",
              "      <td>0</td>\n",
              "      <td>0</td>\n",
              "      <td>0</td>\n",
              "      <td>0</td>\n",
              "      <td>0</td>\n",
              "      <td>0</td>\n",
              "      <td>0</td>\n",
              "      <td>0</td>\n",
              "      <td>0</td>\n",
              "      <td>0</td>\n",
              "      <td>0</td>\n",
              "      <td>0</td>\n",
              "      <td>0</td>\n",
              "      <td>0</td>\n",
              "      <td>0</td>\n",
              "      <td>0</td>\n",
              "      <td>0</td>\n",
              "      <td>0</td>\n",
              "      <td>0</td>\n",
              "      <td>0</td>\n",
              "      <td>0</td>\n",
              "    </tr>\n",
              "    <tr>\n",
              "      <th>1</th>\n",
              "      <td>1.0</td>\n",
              "      <td>2</td>\n",
              "      <td>2016-06-12 12:19:27</td>\n",
              "      <td></td>\n",
              "      <td>Columbus Avenue</td>\n",
              "      <td>40.7947</td>\n",
              "      <td>-73.9667</td>\n",
              "      <td>5465</td>\n",
              "      <td>808 Columbus Avenue</td>\n",
              "      <td>low</td>\n",
              "      <td>1</td>\n",
              "      <td>1</td>\n",
              "      <td>0</td>\n",
              "      <td>1</td>\n",
              "      <td>1</td>\n",
              "      <td>0</td>\n",
              "      <td>0</td>\n",
              "      <td>0</td>\n",
              "      <td>1</td>\n",
              "      <td>0</td>\n",
              "      <td>0</td>\n",
              "      <td>0</td>\n",
              "      <td>0</td>\n",
              "      <td>0</td>\n",
              "      <td>0</td>\n",
              "      <td>0</td>\n",
              "      <td>0</td>\n",
              "      <td>0</td>\n",
              "      <td>0</td>\n",
              "      <td>0</td>\n",
              "      <td>0</td>\n",
              "      <td>0</td>\n",
              "      <td>0</td>\n",
              "      <td>0</td>\n",
              "    </tr>\n",
              "    <tr>\n",
              "      <th>2</th>\n",
              "      <td>1.0</td>\n",
              "      <td>1</td>\n",
              "      <td>2016-04-17 03:26:41</td>\n",
              "      <td>Top Top West Village location, beautiful Pre-w...</td>\n",
              "      <td>W 13 Street</td>\n",
              "      <td>40.7388</td>\n",
              "      <td>-74.0018</td>\n",
              "      <td>2850</td>\n",
              "      <td>241 W 13 Street</td>\n",
              "      <td>high</td>\n",
              "      <td>0</td>\n",
              "      <td>0</td>\n",
              "      <td>1</td>\n",
              "      <td>0</td>\n",
              "      <td>0</td>\n",
              "      <td>1</td>\n",
              "      <td>0</td>\n",
              "      <td>1</td>\n",
              "      <td>0</td>\n",
              "      <td>0</td>\n",
              "      <td>0</td>\n",
              "      <td>0</td>\n",
              "      <td>0</td>\n",
              "      <td>0</td>\n",
              "      <td>0</td>\n",
              "      <td>0</td>\n",
              "      <td>0</td>\n",
              "      <td>0</td>\n",
              "      <td>0</td>\n",
              "      <td>0</td>\n",
              "      <td>0</td>\n",
              "      <td>0</td>\n",
              "      <td>0</td>\n",
              "      <td>0</td>\n",
              "    </tr>\n",
              "    <tr>\n",
              "      <th>3</th>\n",
              "      <td>1.0</td>\n",
              "      <td>1</td>\n",
              "      <td>2016-04-18 02:22:02</td>\n",
              "      <td>Building Amenities - Garage - Garden - fitness...</td>\n",
              "      <td>East 49th Street</td>\n",
              "      <td>40.7539</td>\n",
              "      <td>-73.9677</td>\n",
              "      <td>3275</td>\n",
              "      <td>333 East 49th Street</td>\n",
              "      <td>low</td>\n",
              "      <td>0</td>\n",
              "      <td>0</td>\n",
              "      <td>1</td>\n",
              "      <td>0</td>\n",
              "      <td>0</td>\n",
              "      <td>0</td>\n",
              "      <td>1</td>\n",
              "      <td>0</td>\n",
              "      <td>0</td>\n",
              "      <td>0</td>\n",
              "      <td>0</td>\n",
              "      <td>0</td>\n",
              "      <td>0</td>\n",
              "      <td>0</td>\n",
              "      <td>0</td>\n",
              "      <td>0</td>\n",
              "      <td>0</td>\n",
              "      <td>0</td>\n",
              "      <td>0</td>\n",
              "      <td>0</td>\n",
              "      <td>0</td>\n",
              "      <td>0</td>\n",
              "      <td>0</td>\n",
              "      <td>0</td>\n",
              "    </tr>\n",
              "    <tr>\n",
              "      <th>4</th>\n",
              "      <td>1.0</td>\n",
              "      <td>4</td>\n",
              "      <td>2016-04-28 01:32:41</td>\n",
              "      <td>Beautifully renovated 3 bedroom flex 4 bedroom...</td>\n",
              "      <td>West 143rd Street</td>\n",
              "      <td>40.8241</td>\n",
              "      <td>-73.9493</td>\n",
              "      <td>3350</td>\n",
              "      <td>500 West 143rd Street</td>\n",
              "      <td>low</td>\n",
              "      <td>0</td>\n",
              "      <td>0</td>\n",
              "      <td>0</td>\n",
              "      <td>0</td>\n",
              "      <td>0</td>\n",
              "      <td>0</td>\n",
              "      <td>0</td>\n",
              "      <td>0</td>\n",
              "      <td>0</td>\n",
              "      <td>1</td>\n",
              "      <td>0</td>\n",
              "      <td>0</td>\n",
              "      <td>0</td>\n",
              "      <td>0</td>\n",
              "      <td>0</td>\n",
              "      <td>0</td>\n",
              "      <td>0</td>\n",
              "      <td>0</td>\n",
              "      <td>0</td>\n",
              "      <td>0</td>\n",
              "      <td>0</td>\n",
              "      <td>0</td>\n",
              "      <td>0</td>\n",
              "      <td>0</td>\n",
              "    </tr>\n",
              "  </tbody>\n",
              "</table>\n",
              "</div>"
            ],
            "text/plain": [
              "   bathrooms  bedrooms  ... wheelchair_access common_outdoor_space\n",
              "0        1.5         3  ...                 0                    0\n",
              "1        1.0         2  ...                 0                    0\n",
              "2        1.0         1  ...                 0                    0\n",
              "3        1.0         1  ...                 0                    0\n",
              "4        1.0         4  ...                 0                    0\n",
              "\n",
              "[5 rows x 34 columns]"
            ]
          },
          "metadata": {
            "tags": []
          },
          "execution_count": 4
        }
      ]
    },
    {
      "cell_type": "code",
      "metadata": {
        "id": "It1D4sDKJRK-",
        "outputId": "a649032a-f2a6-4614-f64d-6b91c8e9c743",
        "colab": {
          "base_uri": "https://localhost:8080/",
          "height": 714
        }
      },
      "source": [
        "# \"Choose a feature\": I'll pick number of bedrooms\n",
        "df.info()"
      ],
      "execution_count": null,
      "outputs": [
        {
          "output_type": "stream",
          "text": [
            "<class 'pandas.core.frame.DataFrame'>\n",
            "Int64Index: 48818 entries, 0 to 49351\n",
            "Data columns (total 34 columns):\n",
            " #   Column                Non-Null Count  Dtype  \n",
            "---  ------                --------------  -----  \n",
            " 0   bathrooms             48818 non-null  float64\n",
            " 1   bedrooms              48818 non-null  int64  \n",
            " 2   created               48818 non-null  object \n",
            " 3   description           47393 non-null  object \n",
            " 4   display_address       48685 non-null  object \n",
            " 5   latitude              48818 non-null  float64\n",
            " 6   longitude             48818 non-null  float64\n",
            " 7   price                 48818 non-null  int64  \n",
            " 8   street_address        48808 non-null  object \n",
            " 9   interest_level        48818 non-null  object \n",
            " 10  elevator              48818 non-null  int64  \n",
            " 11  cats_allowed          48818 non-null  int64  \n",
            " 12  hardwood_floors       48818 non-null  int64  \n",
            " 13  dogs_allowed          48818 non-null  int64  \n",
            " 14  doorman               48818 non-null  int64  \n",
            " 15  dishwasher            48818 non-null  int64  \n",
            " 16  no_fee                48818 non-null  int64  \n",
            " 17  laundry_in_building   48818 non-null  int64  \n",
            " 18  fitness_center        48818 non-null  int64  \n",
            " 19  pre-war               48818 non-null  int64  \n",
            " 20  laundry_in_unit       48818 non-null  int64  \n",
            " 21  roof_deck             48818 non-null  int64  \n",
            " 22  outdoor_space         48818 non-null  int64  \n",
            " 23  dining_room           48818 non-null  int64  \n",
            " 24  high_speed_internet   48818 non-null  int64  \n",
            " 25  balcony               48818 non-null  int64  \n",
            " 26  swimming_pool         48818 non-null  int64  \n",
            " 27  new_construction      48818 non-null  int64  \n",
            " 28  terrace               48818 non-null  int64  \n",
            " 29  exclusive             48818 non-null  int64  \n",
            " 30  loft                  48818 non-null  int64  \n",
            " 31  garden_patio          48818 non-null  int64  \n",
            " 32  wheelchair_access     48818 non-null  int64  \n",
            " 33  common_outdoor_space  48818 non-null  int64  \n",
            "dtypes: float64(3), int64(26), object(5)\n",
            "memory usage: 13.0+ MB\n"
          ],
          "name": "stdout"
        }
      ]
    },
    {
      "cell_type": "code",
      "metadata": {
        "id": "_rextWEzJlHe",
        "outputId": "bff96f7b-64ac-45f3-adca-3bbb554d8198",
        "colab": {
          "base_uri": "https://localhost:8080/",
          "height": 280
        }
      },
      "source": [
        "# \"plot its relationship with the target\"\n",
        "\n",
        "import matplotlib.pyplot as plt\n",
        "plt.scatter(df['bedrooms'],df['price'])\n",
        "plt.xlabel('# of bedrooms')\n",
        "plt.ylabel('price');"
      ],
      "execution_count": null,
      "outputs": [
        {
          "output_type": "display_data",
          "data": {
            "image/png": "[encoded data removed]",
            "text/plain": [
              "<Figure size 432x288 with 1 Axes>"
            ]
          },
          "metadata": {
            "tags": [],
            "needs_background": "light"
          }
        }
      ]
    },
    {
      "cell_type": "code",
      "metadata": {
        "id": "DDnVPZBAJ6dj"
      },
      "source": [
        "# import predictor\n",
        "\n",
        "from sklearn.linear_model import LinearRegression"
      ],
      "execution_count": null,
      "outputs": []
    },
    {
      "cell_type": "code",
      "metadata": {
        "id": "6rR8GUESKpUk"
      },
      "source": [
        "# instantiate your predictor\n",
        "model = LinearRegression()"
      ],
      "execution_count": null,
      "outputs": []
    },
    {
      "cell_type": "code",
      "metadata": {
        "id": "MeprJXnLKyvs",
        "outputId": "b82cc470-13cc-4c2f-c456-6b68a4f33fae",
        "colab": {
          "base_uri": "https://localhost:8080/",
          "height": 34
        }
      },
      "source": [
        "# split target vector and feature matrix\n",
        "\n",
        "y=df['price']\n",
        "X=df[['bedrooms']]\n",
        "y.shape"
      ],
      "execution_count": null,
      "outputs": [
        {
          "output_type": "execute_result",
          "data": {
            "text/plain": [
              "(48818,)"
            ]
          },
          "metadata": {
            "tags": []
          },
          "execution_count": 9
        }
      ]
    },
    {
      "cell_type": "code",
      "metadata": {
        "id": "LbuMW9taLBYN",
        "outputId": "a3d7185d-7fc8-4cef-b0a2-b8d5b4fa04ed",
        "colab": {
          "base_uri": "https://localhost:8080/",
          "height": 34
        }
      },
      "source": [
        "X.shape"
      ],
      "execution_count": null,
      "outputs": [
        {
          "output_type": "execute_result",
          "data": {
            "text/plain": [
              "(48818, 1)"
            ]
          },
          "metadata": {
            "tags": []
          },
          "execution_count": 10
        }
      ]
    },
    {
      "cell_type": "code",
      "metadata": {
        "id": "81q9rFI6LCVb",
        "outputId": "ec3236ca-26e6-49e4-9982-7fcb1a9d09ee",
        "colab": {
          "base_uri": "https://localhost:8080/",
          "height": 34
        }
      },
      "source": [
        "# fit the model to your data\n",
        "model.fit(X,y)"
      ],
      "execution_count": null,
      "outputs": [
        {
          "output_type": "execute_result",
          "data": {
            "text/plain": [
              "LinearRegression(copy_X=True, fit_intercept=True, n_jobs=None, normalize=False)"
            ]
          },
          "metadata": {
            "tags": []
          },
          "execution_count": 11
        }
      ]
    },
    {
      "cell_type": "code",
      "metadata": {
        "id": "wCQwjQuILLri",
        "outputId": "0754b6d4-e9f9-4320-821e-07ff36d7fa4a",
        "colab": {
          "base_uri": "https://localhost:8080/",
          "height": 51
        }
      },
      "source": [
        "# predict\n",
        "y_pred = model.predict(X)\n",
        "y_pred"
      ],
      "execution_count": null,
      "outputs": [
        {
          "output_type": "execute_result",
          "data": {
            "text/plain": [
              "array([4827.73665176, 3974.48248423, 3121.22831671, ..., 3121.22831671,\n",
              "       2267.97414918, 3974.48248423])"
            ]
          },
          "metadata": {
            "tags": []
          },
          "execution_count": 12
        }
      ]
    },
    {
      "cell_type": "code",
      "metadata": {
        "id": "dOHuJTYHLTPs",
        "outputId": "42bdc23a-5a86-4b07-ba32-4413a69014c7",
        "colab": {
          "base_uri": "https://localhost:8080/",
          "height": 34
        }
      },
      "source": [
        "# explain the model coefficient\n",
        "model.coef_"
      ],
      "execution_count": null,
      "outputs": [
        {
          "output_type": "execute_result",
          "data": {
            "text/plain": [
              "array([853.25416753])"
            ]
          },
          "metadata": {
            "tags": []
          },
          "execution_count": 13
        }
      ]
    },
    {
      "cell_type": "code",
      "metadata": {
        "id": "7MqG17LaLwBO"
      },
      "source": [
        "# A coefficient of 853.25 means that we are multiplying the number of bedrooms by $853.25 when we are predicting a\n",
        "# rental's price in dollars"
      ],
      "execution_count": null,
      "outputs": []
    },
    {
      "cell_type": "code",
      "metadata": {
        "id": "5sDoBlIUMUe1",
        "outputId": "a7170ba7-3df4-4c80-8b96-4255664e716a",
        "colab": {
          "base_uri": "https://localhost:8080/",
          "height": 85
        }
      },
      "source": [
        "# \"Do linear regression with two or more features\"\n",
        "\n",
        "# New X. I'll use bedrooms, bathrooms, latitutde, longitude, and interest level. First turn interest level into numeric\n",
        "\n",
        "df['interest_level'].value_counts()\n",
        "\n"
      ],
      "execution_count": null,
      "outputs": [
        {
          "output_type": "execute_result",
          "data": {
            "text/plain": [
              "low       33947\n",
              "medium    11181\n",
              "high       3690\n",
              "Name: interest_level, dtype: int64"
            ]
          },
          "metadata": {
            "tags": []
          },
          "execution_count": 15
        }
      ]
    },
    {
      "cell_type": "code",
      "metadata": {
        "id": "mH8yJ9UBNEnJ",
        "outputId": "68f02b3c-5c72-4301-b4ef-88617eab4082",
        "colab": {
          "base_uri": "https://localhost:8080/",
          "height": 85
        }
      },
      "source": [
        "df['interest_level'].replace({'low':1, 'medium':2, 'high':3},inplace=True)\n",
        "df['interest_level'].value_counts()"
      ],
      "execution_count": null,
      "outputs": [
        {
          "output_type": "execute_result",
          "data": {
            "text/plain": [
              "1    33947\n",
              "2    11181\n",
              "3     3690\n",
              "Name: interest_level, dtype: int64"
            ]
          },
          "metadata": {
            "tags": []
          },
          "execution_count": 16
        }
      ]
    },
    {
      "cell_type": "code",
      "metadata": {
        "id": "ZmBB0X3fNTLQ",
        "outputId": "3d4c5d89-d682-48e1-9bda-ffc315682204",
        "colab": {
          "base_uri": "https://localhost:8080/",
          "height": 419
        }
      },
      "source": [
        "X = df[['bathrooms','bedrooms','latitude','longitude','interest_level']]\n",
        "X"
      ],
      "execution_count": null,
      "outputs": [
        {
          "output_type": "execute_result",
          "data": {
            "text/html": [
              "<div>\n",
              "<style scoped>\n",
              "    .dataframe tbody tr th:only-of-type {\n",
              "        vertical-align: middle;\n",
              "    }\n",
              "\n",
              "    .dataframe tbody tr th {\n",
              "        vertical-align: top;\n",
              "    }\n",
              "\n",
              "    .dataframe thead th {\n",
              "        text-align: right;\n",
              "    }\n",
              "</style>\n",
              "<table border=\"1\" class=\"dataframe\">\n",
              "  <thead>\n",
              "    <tr style=\"text-align: right;\">\n",
              "      <th></th>\n",
              "      <th>bathrooms</th>\n",
              "      <th>bedrooms</th>\n",
              "      <th>latitude</th>\n",
              "      <th>longitude</th>\n",
              "      <th>interest_level</th>\n",
              "    </tr>\n",
              "  </thead>\n",
              "  <tbody>\n",
              "    <tr>\n",
              "      <th>0</th>\n",
              "      <td>1.5</td>\n",
              "      <td>3</td>\n",
              "      <td>40.7145</td>\n",
              "      <td>-73.9425</td>\n",
              "      <td>2</td>\n",
              "    </tr>\n",
              "    <tr>\n",
              "      <th>1</th>\n",
              "      <td>1.0</td>\n",
              "      <td>2</td>\n",
              "      <td>40.7947</td>\n",
              "      <td>-73.9667</td>\n",
              "      <td>1</td>\n",
              "    </tr>\n",
              "    <tr>\n",
              "      <th>2</th>\n",
              "      <td>1.0</td>\n",
              "      <td>1</td>\n",
              "      <td>40.7388</td>\n",
              "      <td>-74.0018</td>\n",
              "      <td>3</td>\n",
              "    </tr>\n",
              "    <tr>\n",
              "      <th>3</th>\n",
              "      <td>1.0</td>\n",
              "      <td>1</td>\n",
              "      <td>40.7539</td>\n",
              "      <td>-73.9677</td>\n",
              "      <td>1</td>\n",
              "    </tr>\n",
              "    <tr>\n",
              "      <th>4</th>\n",
              "      <td>1.0</td>\n",
              "      <td>4</td>\n",
              "      <td>40.8241</td>\n",
              "      <td>-73.9493</td>\n",
              "      <td>1</td>\n",
              "    </tr>\n",
              "    <tr>\n",
              "      <th>...</th>\n",
              "      <td>...</td>\n",
              "      <td>...</td>\n",
              "      <td>...</td>\n",
              "      <td>...</td>\n",
              "      <td>...</td>\n",
              "    </tr>\n",
              "    <tr>\n",
              "      <th>49347</th>\n",
              "      <td>1.0</td>\n",
              "      <td>2</td>\n",
              "      <td>40.7426</td>\n",
              "      <td>-73.9790</td>\n",
              "      <td>2</td>\n",
              "    </tr>\n",
              "    <tr>\n",
              "      <th>49348</th>\n",
              "      <td>1.0</td>\n",
              "      <td>1</td>\n",
              "      <td>40.7102</td>\n",
              "      <td>-74.0163</td>\n",
              "      <td>1</td>\n",
              "    </tr>\n",
              "    <tr>\n",
              "      <th>49349</th>\n",
              "      <td>1.0</td>\n",
              "      <td>1</td>\n",
              "      <td>40.7601</td>\n",
              "      <td>-73.9900</td>\n",
              "      <td>1</td>\n",
              "    </tr>\n",
              "    <tr>\n",
              "      <th>49350</th>\n",
              "      <td>1.0</td>\n",
              "      <td>0</td>\n",
              "      <td>40.7066</td>\n",
              "      <td>-74.0101</td>\n",
              "      <td>1</td>\n",
              "    </tr>\n",
              "    <tr>\n",
              "      <th>49351</th>\n",
              "      <td>1.0</td>\n",
              "      <td>2</td>\n",
              "      <td>40.8699</td>\n",
              "      <td>-73.9172</td>\n",
              "      <td>1</td>\n",
              "    </tr>\n",
              "  </tbody>\n",
              "</table>\n",
              "<p>48818 rows × 5 columns</p>\n",
              "</div>"
            ],
            "text/plain": [
              "       bathrooms  bedrooms  latitude  longitude  interest_level\n",
              "0            1.5         3   40.7145   -73.9425               2\n",
              "1            1.0         2   40.7947   -73.9667               1\n",
              "2            1.0         1   40.7388   -74.0018               3\n",
              "3            1.0         1   40.7539   -73.9677               1\n",
              "4            1.0         4   40.8241   -73.9493               1\n",
              "...          ...       ...       ...        ...             ...\n",
              "49347        1.0         2   40.7426   -73.9790               2\n",
              "49348        1.0         1   40.7102   -74.0163               1\n",
              "49349        1.0         1   40.7601   -73.9900               1\n",
              "49350        1.0         0   40.7066   -74.0101               1\n",
              "49351        1.0         2   40.8699   -73.9172               1\n",
              "\n",
              "[48818 rows x 5 columns]"
            ]
          },
          "metadata": {
            "tags": []
          },
          "execution_count": 17
        }
      ]
    },
    {
      "cell_type": "code",
      "metadata": {
        "id": "pVTwmUpINpj4",
        "outputId": "3e691b77-6ffa-420d-ecdf-236421c77d16",
        "colab": {
          "base_uri": "https://localhost:8080/",
          "height": 34
        }
      },
      "source": [
        "model.fit(X,y)"
      ],
      "execution_count": null,
      "outputs": [
        {
          "output_type": "execute_result",
          "data": {
            "text/plain": [
              "LinearRegression(copy_X=True, fit_intercept=True, n_jobs=None, normalize=False)"
            ]
          },
          "metadata": {
            "tags": []
          },
          "execution_count": 18
        }
      ]
    },
    {
      "cell_type": "code",
      "metadata": {
        "id": "A7Iil1oLNvOM"
      },
      "source": [
        "y_pred_multivar = model.predict(X)"
      ],
      "execution_count": null,
      "outputs": []
    },
    {
      "cell_type": "code",
      "metadata": {
        "id": "Io8ohoLDN_BR",
        "outputId": "7c3c53f1-9bc0-4280-f84f-894a835392ab",
        "colab": {
          "base_uri": "https://localhost:8080/",
          "height": 160
        }
      },
      "source": [
        "predictions = pd.DataFrame([y_pred,y_pred_multivar])\n",
        "predictions"
      ],
      "execution_count": null,
      "outputs": [
        {
          "output_type": "execute_result",
          "data": {
            "text/html": [
              "<div>\n",
              "<style scoped>\n",
              "    .dataframe tbody tr th:only-of-type {\n",
              "        vertical-align: middle;\n",
              "    }\n",
              "\n",
              "    .dataframe tbody tr th {\n",
              "        vertical-align: top;\n",
              "    }\n",
              "\n",
              "    .dataframe thead th {\n",
              "        text-align: right;\n",
              "    }\n",
              "</style>\n",
              "<table border=\"1\" class=\"dataframe\">\n",
              "  <thead>\n",
              "    <tr style=\"text-align: right;\">\n",
              "      <th></th>\n",
              "      <th>0</th>\n",
              "      <th>1</th>\n",
              "      <th>2</th>\n",
              "      <th>3</th>\n",
              "      <th>4</th>\n",
              "      <th>5</th>\n",
              "      <th>6</th>\n",
              "      <th>7</th>\n",
              "      <th>8</th>\n",
              "      <th>9</th>\n",
              "      <th>10</th>\n",
              "      <th>11</th>\n",
              "      <th>12</th>\n",
              "      <th>13</th>\n",
              "      <th>14</th>\n",
              "      <th>15</th>\n",
              "      <th>16</th>\n",
              "      <th>17</th>\n",
              "      <th>18</th>\n",
              "      <th>19</th>\n",
              "      <th>20</th>\n",
              "      <th>21</th>\n",
              "      <th>22</th>\n",
              "      <th>23</th>\n",
              "      <th>24</th>\n",
              "      <th>25</th>\n",
              "      <th>26</th>\n",
              "      <th>27</th>\n",
              "      <th>28</th>\n",
              "      <th>29</th>\n",
              "      <th>30</th>\n",
              "      <th>31</th>\n",
              "      <th>32</th>\n",
              "      <th>33</th>\n",
              "      <th>34</th>\n",
              "      <th>35</th>\n",
              "      <th>36</th>\n",
              "      <th>37</th>\n",
              "      <th>38</th>\n",
              "      <th>39</th>\n",
              "      <th>...</th>\n",
              "      <th>48778</th>\n",
              "      <th>48779</th>\n",
              "      <th>48780</th>\n",
              "      <th>48781</th>\n",
              "      <th>48782</th>\n",
              "      <th>48783</th>\n",
              "      <th>48784</th>\n",
              "      <th>48785</th>\n",
              "      <th>48786</th>\n",
              "      <th>48787</th>\n",
              "      <th>48788</th>\n",
              "      <th>48789</th>\n",
              "      <th>48790</th>\n",
              "      <th>48791</th>\n",
              "      <th>48792</th>\n",
              "      <th>48793</th>\n",
              "      <th>48794</th>\n",
              "      <th>48795</th>\n",
              "      <th>48796</th>\n",
              "      <th>48797</th>\n",
              "      <th>48798</th>\n",
              "      <th>48799</th>\n",
              "      <th>48800</th>\n",
              "      <th>48801</th>\n",
              "      <th>48802</th>\n",
              "      <th>48803</th>\n",
              "      <th>48804</th>\n",
              "      <th>48805</th>\n",
              "      <th>48806</th>\n",
              "      <th>48807</th>\n",
              "      <th>48808</th>\n",
              "      <th>48809</th>\n",
              "      <th>48810</th>\n",
              "      <th>48811</th>\n",
              "      <th>48812</th>\n",
              "      <th>48813</th>\n",
              "      <th>48814</th>\n",
              "      <th>48815</th>\n",
              "      <th>48816</th>\n",
              "      <th>48817</th>\n",
              "    </tr>\n",
              "  </thead>\n",
              "  <tbody>\n",
              "    <tr>\n",
              "      <th>0</th>\n",
              "      <td>4827.736652</td>\n",
              "      <td>3974.482484</td>\n",
              "      <td>3121.228317</td>\n",
              "      <td>3121.228317</td>\n",
              "      <td>5680.990819</td>\n",
              "      <td>5680.990819</td>\n",
              "      <td>3974.482484</td>\n",
              "      <td>3121.228317</td>\n",
              "      <td>3121.228317</td>\n",
              "      <td>5680.990819</td>\n",
              "      <td>2267.974149</td>\n",
              "      <td>3121.228317</td>\n",
              "      <td>3974.482484</td>\n",
              "      <td>3974.482484</td>\n",
              "      <td>3121.228317</td>\n",
              "      <td>2267.974149</td>\n",
              "      <td>3974.482484</td>\n",
              "      <td>3121.228317</td>\n",
              "      <td>5680.990819</td>\n",
              "      <td>3121.228317</td>\n",
              "      <td>4827.736652</td>\n",
              "      <td>3974.482484</td>\n",
              "      <td>3121.228317</td>\n",
              "      <td>3121.228317</td>\n",
              "      <td>5680.990819</td>\n",
              "      <td>5680.990819</td>\n",
              "      <td>3121.228317</td>\n",
              "      <td>3121.228317</td>\n",
              "      <td>3974.482484</td>\n",
              "      <td>2267.974149</td>\n",
              "      <td>3974.482484</td>\n",
              "      <td>3121.228317</td>\n",
              "      <td>3974.482484</td>\n",
              "      <td>3974.482484</td>\n",
              "      <td>3121.228317</td>\n",
              "      <td>2267.974149</td>\n",
              "      <td>3974.482484</td>\n",
              "      <td>2267.974149</td>\n",
              "      <td>4827.736652</td>\n",
              "      <td>5680.990819</td>\n",
              "      <td>...</td>\n",
              "      <td>3974.482484</td>\n",
              "      <td>3121.228317</td>\n",
              "      <td>3121.228317</td>\n",
              "      <td>2267.974149</td>\n",
              "      <td>3121.228317</td>\n",
              "      <td>3121.228317</td>\n",
              "      <td>4827.736652</td>\n",
              "      <td>3974.482484</td>\n",
              "      <td>3121.228317</td>\n",
              "      <td>3974.482484</td>\n",
              "      <td>3121.228317</td>\n",
              "      <td>3121.228317</td>\n",
              "      <td>2267.974149</td>\n",
              "      <td>3974.482484</td>\n",
              "      <td>3974.482484</td>\n",
              "      <td>3121.228317</td>\n",
              "      <td>3121.228317</td>\n",
              "      <td>3974.482484</td>\n",
              "      <td>3121.228317</td>\n",
              "      <td>2267.974149</td>\n",
              "      <td>3974.482484</td>\n",
              "      <td>3121.228317</td>\n",
              "      <td>3974.482484</td>\n",
              "      <td>3121.228317</td>\n",
              "      <td>4827.736652</td>\n",
              "      <td>2267.974149</td>\n",
              "      <td>4827.736652</td>\n",
              "      <td>4827.736652</td>\n",
              "      <td>3121.228317</td>\n",
              "      <td>2267.974149</td>\n",
              "      <td>3121.228317</td>\n",
              "      <td>3121.228317</td>\n",
              "      <td>3121.228317</td>\n",
              "      <td>3121.228317</td>\n",
              "      <td>3121.228317</td>\n",
              "      <td>3974.482484</td>\n",
              "      <td>3121.228317</td>\n",
              "      <td>3121.228317</td>\n",
              "      <td>2267.974149</td>\n",
              "      <td>3974.482484</td>\n",
              "    </tr>\n",
              "    <tr>\n",
              "      <th>1</th>\n",
              "      <td>4009.502776</td>\n",
              "      <td>3537.081240</td>\n",
              "      <td>2644.354391</td>\n",
              "      <td>3041.650362</td>\n",
              "      <td>4208.127885</td>\n",
              "      <td>6426.450590</td>\n",
              "      <td>3535.790702</td>\n",
              "      <td>5419.133935</td>\n",
              "      <td>2344.687086</td>\n",
              "      <td>6513.535129</td>\n",
              "      <td>2295.921981</td>\n",
              "      <td>2736.000819</td>\n",
              "      <td>2719.982897</td>\n",
              "      <td>5691.267913</td>\n",
              "      <td>3002.819177</td>\n",
              "      <td>2224.984238</td>\n",
              "      <td>3697.253342</td>\n",
              "      <td>2582.915499</td>\n",
              "      <td>4399.745801</td>\n",
              "      <td>3201.770990</td>\n",
              "      <td>4193.283654</td>\n",
              "      <td>3203.747585</td>\n",
              "      <td>3128.438167</td>\n",
              "      <td>3606.779241</td>\n",
              "      <td>6276.275696</td>\n",
              "      <td>9247.390591</td>\n",
              "      <td>2339.824139</td>\n",
              "      <td>3443.991406</td>\n",
              "      <td>5204.133011</td>\n",
              "      <td>2320.062616</td>\n",
              "      <td>3092.464784</td>\n",
              "      <td>3727.690115</td>\n",
              "      <td>3872.571269</td>\n",
              "      <td>3197.597167</td>\n",
              "      <td>2688.742070</td>\n",
              "      <td>1832.573969</td>\n",
              "      <td>5734.567891</td>\n",
              "      <td>2577.834905</td>\n",
              "      <td>4472.554381</td>\n",
              "      <td>8102.453678</td>\n",
              "      <td>...</td>\n",
              "      <td>1718.298424</td>\n",
              "      <td>3239.173220</td>\n",
              "      <td>2990.663757</td>\n",
              "      <td>3139.650580</td>\n",
              "      <td>3228.507048</td>\n",
              "      <td>2369.519440</td>\n",
              "      <td>4614.931292</td>\n",
              "      <td>4022.329040</td>\n",
              "      <td>2982.844046</td>\n",
              "      <td>6129.495672</td>\n",
              "      <td>2758.138476</td>\n",
              "      <td>3228.600973</td>\n",
              "      <td>1946.668546</td>\n",
              "      <td>3906.875223</td>\n",
              "      <td>5574.404197</td>\n",
              "      <td>3323.295245</td>\n",
              "      <td>3491.831747</td>\n",
              "      <td>3997.468394</td>\n",
              "      <td>3209.785943</td>\n",
              "      <td>3273.130388</td>\n",
              "      <td>3598.259670</td>\n",
              "      <td>3228.600973</td>\n",
              "      <td>6019.268597</td>\n",
              "      <td>3022.777920</td>\n",
              "      <td>6080.080013</td>\n",
              "      <td>1922.738327</td>\n",
              "      <td>5594.284253</td>\n",
              "      <td>3849.161396</td>\n",
              "      <td>2088.151595</td>\n",
              "      <td>3196.638709</td>\n",
              "      <td>2403.143767</td>\n",
              "      <td>2934.789392</td>\n",
              "      <td>3531.754957</td>\n",
              "      <td>3159.871676</td>\n",
              "      <td>2851.764930</td>\n",
              "      <td>3197.315607</td>\n",
              "      <td>3739.754481</td>\n",
              "      <td>3401.166177</td>\n",
              "      <td>3186.772954</td>\n",
              "      <td>2871.868920</td>\n",
              "    </tr>\n",
              "  </tbody>\n",
              "</table>\n",
              "<p>2 rows × 48818 columns</p>\n",
              "</div>"
            ],
            "text/plain": [
              "         0            1            2      ...        48815        48816        48817\n",
              "0  4827.736652  3974.482484  3121.228317  ...  3121.228317  2267.974149  3974.482484\n",
              "1  4009.502776  3537.081240  2644.354391  ...  3401.166177  3186.772954  2871.868920\n",
              "\n",
              "[2 rows x 48818 columns]"
            ]
          },
          "metadata": {
            "tags": []
          },
          "execution_count": 20
        }
      ]
    },
    {
      "cell_type": "code",
      "metadata": {
        "id": "0peSUcg9Oe_l",
        "outputId": "ffd6c588-e7c5-498c-f034-8b6b308b7f0c",
        "colab": {
          "base_uri": "https://localhost:8080/",
          "height": 419
        }
      },
      "source": [
        "predictions.T"
      ],
      "execution_count": null,
      "outputs": [
        {
          "output_type": "execute_result",
          "data": {
            "text/html": [
              "<div>\n",
              "<style scoped>\n",
              "    .dataframe tbody tr th:only-of-type {\n",
              "        vertical-align: middle;\n",
              "    }\n",
              "\n",
              "    .dataframe tbody tr th {\n",
              "        vertical-align: top;\n",
              "    }\n",
              "\n",
              "    .dataframe thead th {\n",
              "        text-align: right;\n",
              "    }\n",
              "</style>\n",
              "<table border=\"1\" class=\"dataframe\">\n",
              "  <thead>\n",
              "    <tr style=\"text-align: right;\">\n",
              "      <th></th>\n",
              "      <th>0</th>\n",
              "      <th>1</th>\n",
              "    </tr>\n",
              "  </thead>\n",
              "  <tbody>\n",
              "    <tr>\n",
              "      <th>0</th>\n",
              "      <td>4827.736652</td>\n",
              "      <td>4009.502776</td>\n",
              "    </tr>\n",
              "    <tr>\n",
              "      <th>1</th>\n",
              "      <td>3974.482484</td>\n",
              "      <td>3537.081240</td>\n",
              "    </tr>\n",
              "    <tr>\n",
              "      <th>2</th>\n",
              "      <td>3121.228317</td>\n",
              "      <td>2644.354391</td>\n",
              "    </tr>\n",
              "    <tr>\n",
              "      <th>3</th>\n",
              "      <td>3121.228317</td>\n",
              "      <td>3041.650362</td>\n",
              "    </tr>\n",
              "    <tr>\n",
              "      <th>4</th>\n",
              "      <td>5680.990819</td>\n",
              "      <td>4208.127885</td>\n",
              "    </tr>\n",
              "    <tr>\n",
              "      <th>...</th>\n",
              "      <td>...</td>\n",
              "      <td>...</td>\n",
              "    </tr>\n",
              "    <tr>\n",
              "      <th>48813</th>\n",
              "      <td>3974.482484</td>\n",
              "      <td>3197.315607</td>\n",
              "    </tr>\n",
              "    <tr>\n",
              "      <th>48814</th>\n",
              "      <td>3121.228317</td>\n",
              "      <td>3739.754481</td>\n",
              "    </tr>\n",
              "    <tr>\n",
              "      <th>48815</th>\n",
              "      <td>3121.228317</td>\n",
              "      <td>3401.166177</td>\n",
              "    </tr>\n",
              "    <tr>\n",
              "      <th>48816</th>\n",
              "      <td>2267.974149</td>\n",
              "      <td>3186.772954</td>\n",
              "    </tr>\n",
              "    <tr>\n",
              "      <th>48817</th>\n",
              "      <td>3974.482484</td>\n",
              "      <td>2871.868920</td>\n",
              "    </tr>\n",
              "  </tbody>\n",
              "</table>\n",
              "<p>48818 rows × 2 columns</p>\n",
              "</div>"
            ],
            "text/plain": [
              "                 0            1\n",
              "0      4827.736652  4009.502776\n",
              "1      3974.482484  3537.081240\n",
              "2      3121.228317  2644.354391\n",
              "3      3121.228317  3041.650362\n",
              "4      5680.990819  4208.127885\n",
              "...            ...          ...\n",
              "48813  3974.482484  3197.315607\n",
              "48814  3121.228317  3739.754481\n",
              "48815  3121.228317  3401.166177\n",
              "48816  2267.974149  3186.772954\n",
              "48817  3974.482484  2871.868920\n",
              "\n",
              "[48818 rows x 2 columns]"
            ]
          },
          "metadata": {
            "tags": []
          },
          "execution_count": 21
        }
      ]
    },
    {
      "cell_type": "code",
      "metadata": {
        "id": "CmBwbNFWO3lF",
        "outputId": "694ae253-9828-4a06-8ce5-d5da4b6445c4",
        "colab": {
          "base_uri": "https://localhost:8080/",
          "height": 419
        }
      },
      "source": [
        "predictions=predictions.T\n",
        "predictions.columns=['1 variable predictions','multivariable predictions']\n",
        "predictions"
      ],
      "execution_count": null,
      "outputs": [
        {
          "output_type": "execute_result",
          "data": {
            "text/html": [
              "<div>\n",
              "<style scoped>\n",
              "    .dataframe tbody tr th:only-of-type {\n",
              "        vertical-align: middle;\n",
              "    }\n",
              "\n",
              "    .dataframe tbody tr th {\n",
              "        vertical-align: top;\n",
              "    }\n",
              "\n",
              "    .dataframe thead th {\n",
              "        text-align: right;\n",
              "    }\n",
              "</style>\n",
              "<table border=\"1\" class=\"dataframe\">\n",
              "  <thead>\n",
              "    <tr style=\"text-align: right;\">\n",
              "      <th></th>\n",
              "      <th>1 variable predictions</th>\n",
              "      <th>multivariable predictions</th>\n",
              "    </tr>\n",
              "  </thead>\n",
              "  <tbody>\n",
              "    <tr>\n",
              "      <th>0</th>\n",
              "      <td>4827.736652</td>\n",
              "      <td>4009.502776</td>\n",
              "    </tr>\n",
              "    <tr>\n",
              "      <th>1</th>\n",
              "      <td>3974.482484</td>\n",
              "      <td>3537.081240</td>\n",
              "    </tr>\n",
              "    <tr>\n",
              "      <th>2</th>\n",
              "      <td>3121.228317</td>\n",
              "      <td>2644.354391</td>\n",
              "    </tr>\n",
              "    <tr>\n",
              "      <th>3</th>\n",
              "      <td>3121.228317</td>\n",
              "      <td>3041.650362</td>\n",
              "    </tr>\n",
              "    <tr>\n",
              "      <th>4</th>\n",
              "      <td>5680.990819</td>\n",
              "      <td>4208.127885</td>\n",
              "    </tr>\n",
              "    <tr>\n",
              "      <th>...</th>\n",
              "      <td>...</td>\n",
              "      <td>...</td>\n",
              "    </tr>\n",
              "    <tr>\n",
              "      <th>48813</th>\n",
              "      <td>3974.482484</td>\n",
              "      <td>3197.315607</td>\n",
              "    </tr>\n",
              "    <tr>\n",
              "      <th>48814</th>\n",
              "      <td>3121.228317</td>\n",
              "      <td>3739.754481</td>\n",
              "    </tr>\n",
              "    <tr>\n",
              "      <th>48815</th>\n",
              "      <td>3121.228317</td>\n",
              "      <td>3401.166177</td>\n",
              "    </tr>\n",
              "    <tr>\n",
              "      <th>48816</th>\n",
              "      <td>2267.974149</td>\n",
              "      <td>3186.772954</td>\n",
              "    </tr>\n",
              "    <tr>\n",
              "      <th>48817</th>\n",
              "      <td>3974.482484</td>\n",
              "      <td>2871.868920</td>\n",
              "    </tr>\n",
              "  </tbody>\n",
              "</table>\n",
              "<p>48818 rows × 2 columns</p>\n",
              "</div>"
            ],
            "text/plain": [
              "       1 variable predictions  multivariable predictions\n",
              "0                 4827.736652                4009.502776\n",
              "1                 3974.482484                3537.081240\n",
              "2                 3121.228317                2644.354391\n",
              "3                 3121.228317                3041.650362\n",
              "4                 5680.990819                4208.127885\n",
              "...                       ...                        ...\n",
              "48813             3974.482484                3197.315607\n",
              "48814             3121.228317                3739.754481\n",
              "48815             3121.228317                3401.166177\n",
              "48816             2267.974149                3186.772954\n",
              "48817             3974.482484                2871.868920\n",
              "\n",
              "[48818 rows x 2 columns]"
            ]
          },
          "metadata": {
            "tags": []
          },
          "execution_count": 22
        }
      ]
    },
    {
      "cell_type": "code",
      "metadata": {
        "id": "GcyRme_VPB4s"
      },
      "source": [
        ""
      ],
      "execution_count": null,
      "outputs": []
    }
  ]
}